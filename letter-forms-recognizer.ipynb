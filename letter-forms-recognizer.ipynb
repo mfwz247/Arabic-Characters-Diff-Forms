{
 "cells": [
  {
   "cell_type": "code",
   "execution_count": 1,
   "id": "dfb46422",
   "metadata": {
    "_cell_guid": "b1076dfc-b9ad-4769-8c92-a6c4dae69d19",
    "_uuid": "8f2839f25d086af736a60e9eeb907d3b93b6e0e5",
    "execution": {
     "iopub.execute_input": "2022-03-22T23:43:19.175900Z",
     "iopub.status.busy": "2022-03-22T23:43:19.174204Z",
     "iopub.status.idle": "2022-03-22T23:43:25.547254Z",
     "shell.execute_reply": "2022-03-22T23:43:25.547945Z",
     "shell.execute_reply.started": "2022-03-22T22:31:53.629330Z"
    },
    "papermill": {
     "duration": 6.389661,
     "end_time": "2022-03-22T23:43:25.548197",
     "exception": false,
     "start_time": "2022-03-22T23:43:19.158536",
     "status": "completed"
    },
    "tags": []
   },
   "outputs": [
    {
     "name": "stdout",
     "output_type": "stream",
     "text": [
      "2.6.2\n"
     ]
    }
   ],
   "source": [
    "import pandas as pd\n",
    "import numpy as np\n",
    "import os\n",
    "import tensorflow as tf\n",
    "import cv2\n",
    "from PIL import Image\n",
    "from tensorflow import keras\n",
    "from tensorflow.keras import layers\n",
    "from tensorflow.keras.layers import Dense, Input, InputLayer, Flatten, Conv2D, MaxPool2D, Dropout\n",
    "from tensorflow.keras.models import Sequential, Model\n",
    "from  matplotlib import pyplot as plt\n",
    "import matplotlib.image as mpimg\n",
    "%matplotlib inline\n",
    "import seaborn as sns\n",
    "print(tf.__version__)"
   ]
  },
  {
   "cell_type": "code",
   "execution_count": 2,
   "id": "e9e3e7c1",
   "metadata": {
    "execution": {
     "iopub.execute_input": "2022-03-22T23:43:25.571166Z",
     "iopub.status.busy": "2022-03-22T23:43:25.570583Z",
     "iopub.status.idle": "2022-03-22T23:45:03.658421Z",
     "shell.execute_reply": "2022-03-22T23:45:03.657990Z",
     "shell.execute_reply.started": "2022-03-22T22:31:53.646205Z"
    },
    "papermill": {
     "duration": 98.10082,
     "end_time": "2022-03-22T23:45:03.658548",
     "exception": false,
     "start_time": "2022-03-22T23:43:25.557728",
     "status": "completed"
    },
    "tags": []
   },
   "outputs": [
    {
     "name": "stdout",
     "output_type": "stream",
     "text": [
      "Found 131527 files belonging to 29 classes.\n",
      "Using 105222 files for training.\n"
     ]
    },
    {
     "name": "stderr",
     "output_type": "stream",
     "text": [
      "2022-03-22 23:44:39.325287: I tensorflow/stream_executor/cuda/cuda_gpu_executor.cc:937] successful NUMA node read from SysFS had negative value (-1), but there must be at least one NUMA node, so returning NUMA node zero\n",
      "2022-03-22 23:44:39.412939: I tensorflow/stream_executor/cuda/cuda_gpu_executor.cc:937] successful NUMA node read from SysFS had negative value (-1), but there must be at least one NUMA node, so returning NUMA node zero\n",
      "2022-03-22 23:44:39.413635: I tensorflow/stream_executor/cuda/cuda_gpu_executor.cc:937] successful NUMA node read from SysFS had negative value (-1), but there must be at least one NUMA node, so returning NUMA node zero\n",
      "2022-03-22 23:44:39.416459: I tensorflow/core/platform/cpu_feature_guard.cc:142] This TensorFlow binary is optimized with oneAPI Deep Neural Network Library (oneDNN) to use the following CPU instructions in performance-critical operations:  AVX2 AVX512F FMA\n",
      "To enable them in other operations, rebuild TensorFlow with the appropriate compiler flags.\n",
      "2022-03-22 23:44:39.417574: I tensorflow/stream_executor/cuda/cuda_gpu_executor.cc:937] successful NUMA node read from SysFS had negative value (-1), but there must be at least one NUMA node, so returning NUMA node zero\n",
      "2022-03-22 23:44:39.418290: I tensorflow/stream_executor/cuda/cuda_gpu_executor.cc:937] successful NUMA node read from SysFS had negative value (-1), but there must be at least one NUMA node, so returning NUMA node zero\n",
      "2022-03-22 23:44:39.418942: I tensorflow/stream_executor/cuda/cuda_gpu_executor.cc:937] successful NUMA node read from SysFS had negative value (-1), but there must be at least one NUMA node, so returning NUMA node zero\n",
      "2022-03-22 23:44:41.435117: I tensorflow/stream_executor/cuda/cuda_gpu_executor.cc:937] successful NUMA node read from SysFS had negative value (-1), but there must be at least one NUMA node, so returning NUMA node zero\n",
      "2022-03-22 23:44:41.435890: I tensorflow/stream_executor/cuda/cuda_gpu_executor.cc:937] successful NUMA node read from SysFS had negative value (-1), but there must be at least one NUMA node, so returning NUMA node zero\n",
      "2022-03-22 23:44:41.436556: I tensorflow/stream_executor/cuda/cuda_gpu_executor.cc:937] successful NUMA node read from SysFS had negative value (-1), but there must be at least one NUMA node, so returning NUMA node zero\n",
      "2022-03-22 23:44:41.437159: I tensorflow/core/common_runtime/gpu/gpu_device.cc:1510] Created device /job:localhost/replica:0/task:0/device:GPU:0 with 15403 MB memory:  -> device: 0, name: Tesla P100-PCIE-16GB, pci bus id: 0000:00:04.0, compute capability: 6.0\n"
     ]
    },
    {
     "name": "stdout",
     "output_type": "stream",
     "text": [
      "Found 131527 files belonging to 29 classes.\n",
      "Using 26305 files for validation.\n"
     ]
    }
   ],
   "source": [
    "train=tf.keras.utils.image_dataset_from_directory('../input/resized-arabic-handwritten-chars-all-forms/char_sample_resized'\n",
    "    , labels='inferred', label_mode='categorical',\n",
    "    class_names=None, color_mode='grayscale', batch_size=64, image_size=(22,\n",
    "    22), shuffle=True, seed=40, validation_split=0.2, subset=\"training\",\n",
    "    interpolation='bilinear', follow_links=False,\n",
    "    crop_to_aspect_ratio=False)\n",
    "valid=tf.keras.utils.image_dataset_from_directory('../input/resized-arabic-handwritten-chars-all-forms/char_sample_resized'\n",
    "    , labels='inferred', label_mode='categorical',\n",
    "    class_names=None, color_mode='grayscale', batch_size=64, image_size=(22,\n",
    "    22), shuffle=True, seed=40, validation_split=0.2, subset=\"validation\",\n",
    "    interpolation='bilinear', follow_links=False,\n",
    "    crop_to_aspect_ratio=False)"
   ]
  },
  {
   "cell_type": "code",
   "execution_count": 3,
   "id": "0452ae0c",
   "metadata": {
    "execution": {
     "iopub.execute_input": "2022-03-22T23:45:03.685207Z",
     "iopub.status.busy": "2022-03-22T23:45:03.684571Z",
     "iopub.status.idle": "2022-03-22T23:45:03.687649Z",
     "shell.execute_reply": "2022-03-22T23:45:03.688074Z",
     "shell.execute_reply.started": "2022-03-22T22:32:24.955030Z"
    },
    "papermill": {
     "duration": 0.020145,
     "end_time": "2022-03-22T23:45:03.688189",
     "exception": false,
     "start_time": "2022-03-22T23:45:03.668044",
     "status": "completed"
    },
    "tags": []
   },
   "outputs": [
    {
     "data": {
      "text/plain": [
       "['ا',\n",
       " 'ب',\n",
       " 'ت',\n",
       " 'ث',\n",
       " 'ج',\n",
       " 'ح',\n",
       " 'خ',\n",
       " 'د',\n",
       " 'ذ',\n",
       " 'ر',\n",
       " 'ز',\n",
       " 'س',\n",
       " 'ش',\n",
       " 'ص',\n",
       " 'ض',\n",
       " 'ط',\n",
       " 'ظ',\n",
       " 'ع',\n",
       " 'غ',\n",
       " 'ف',\n",
       " 'ق',\n",
       " 'ك',\n",
       " 'ل',\n",
       " 'لا',\n",
       " 'م',\n",
       " 'ن',\n",
       " 'ه',\n",
       " 'و',\n",
       " 'ي']"
      ]
     },
     "execution_count": 3,
     "metadata": {},
     "output_type": "execute_result"
    }
   ],
   "source": [
    "train.class_names"
   ]
  },
  {
   "cell_type": "code",
   "execution_count": 4,
   "id": "39ed3c76",
   "metadata": {
    "execution": {
     "iopub.execute_input": "2022-03-22T23:45:03.712509Z",
     "iopub.status.busy": "2022-03-22T23:45:03.711998Z",
     "iopub.status.idle": "2022-03-22T23:45:03.741200Z",
     "shell.execute_reply": "2022-03-22T23:45:03.740796Z",
     "shell.execute_reply.started": "2022-03-22T22:32:24.963650Z"
    },
    "papermill": {
     "duration": 0.043933,
     "end_time": "2022-03-22T23:45:03.741312",
     "exception": false,
     "start_time": "2022-03-22T23:45:03.697379",
     "status": "completed"
    },
    "tags": []
   },
   "outputs": [],
   "source": [
    "model = Sequential()\n",
    "layers.Rescaling(1./255, input_shape=(22, 22, 1))\n",
    "model.add(Conv2D(24,kernel_size=5,activation='relu'))\n",
    "model.add(MaxPool2D())\n",
    "model.add(Conv2D(64,kernel_size=5,activation='relu'))\n",
    "model.add(MaxPool2D())\n",
    "model.add(Flatten())\n",
    "model.add(Dense(128, activation='relu'))\n",
    "model.add(Dropout(0.4))\n",
    "model.add(Dense(29, activation='softmax'))"
   ]
  },
  {
   "cell_type": "code",
   "execution_count": 5,
   "id": "d2ba2265",
   "metadata": {
    "execution": {
     "iopub.execute_input": "2022-03-22T23:45:03.769808Z",
     "iopub.status.busy": "2022-03-22T23:45:03.769223Z",
     "iopub.status.idle": "2022-03-22T23:45:03.776817Z",
     "shell.execute_reply": "2022-03-22T23:45:03.777207Z",
     "shell.execute_reply.started": "2022-03-22T22:32:24.983027Z"
    },
    "papermill": {
     "duration": 0.026422,
     "end_time": "2022-03-22T23:45:03.777333",
     "exception": false,
     "start_time": "2022-03-22T23:45:03.750911",
     "status": "completed"
    },
    "tags": []
   },
   "outputs": [],
   "source": [
    "model.compile(optimizer = 'adam',\n",
    "              loss = 'categorical_crossentropy',\n",
    "              metrics=['accuracy'])"
   ]
  },
  {
   "cell_type": "code",
   "execution_count": 6,
   "id": "91622a5a",
   "metadata": {
    "execution": {
     "iopub.execute_input": "2022-03-22T23:45:03.800160Z",
     "iopub.status.busy": "2022-03-22T23:45:03.799614Z",
     "iopub.status.idle": "2022-03-23T00:01:12.667233Z",
     "shell.execute_reply": "2022-03-23T00:01:12.666643Z",
     "shell.execute_reply.started": "2022-03-22T22:32:24.994445Z"
    },
    "papermill": {
     "duration": 968.880406,
     "end_time": "2022-03-23T00:01:12.667373",
     "exception": false,
     "start_time": "2022-03-22T23:45:03.786967",
     "status": "completed"
    },
    "tags": []
   },
   "outputs": [
    {
     "name": "stdout",
     "output_type": "stream",
     "text": [
      "Epoch 1/12\n"
     ]
    },
    {
     "name": "stderr",
     "output_type": "stream",
     "text": [
      "2022-03-22 23:45:04.234986: I tensorflow/compiler/mlir/mlir_graph_optimization_pass.cc:185] None of the MLIR Optimization Passes are enabled (registered 2)\n",
      "2022-03-22 23:45:06.101277: I tensorflow/stream_executor/cuda/cuda_dnn.cc:369] Loaded cuDNN version 8005\n"
     ]
    },
    {
     "name": "stdout",
     "output_type": "stream",
     "text": [
      "1645/1645 [==============================] - 235s 138ms/step - loss: 0.5745 - accuracy: 0.8725 - val_loss: 0.0556 - val_accuracy: 0.9860\n",
      "Epoch 2/12\n",
      "1645/1645 [==============================] - 48s 29ms/step - loss: 0.0710 - accuracy: 0.9799 - val_loss: 0.0470 - val_accuracy: 0.9891\n",
      "Epoch 3/12\n",
      "1645/1645 [==============================] - 48s 29ms/step - loss: 0.0512 - accuracy: 0.9862 - val_loss: 0.0420 - val_accuracy: 0.9908\n",
      "Epoch 4/12\n",
      "1645/1645 [==============================] - 51s 31ms/step - loss: 0.0420 - accuracy: 0.9890 - val_loss: 0.0659 - val_accuracy: 0.9858\n",
      "Epoch 5/12\n",
      "1645/1645 [==============================] - 50s 30ms/step - loss: 0.0384 - accuracy: 0.9904 - val_loss: 0.0423 - val_accuracy: 0.9930\n",
      "Epoch 6/12\n",
      "1645/1645 [==============================] - 50s 30ms/step - loss: 0.0318 - accuracy: 0.9926 - val_loss: 0.0382 - val_accuracy: 0.9946\n",
      "Epoch 7/12\n",
      "1645/1645 [==============================] - 50s 30ms/step - loss: 0.0330 - accuracy: 0.9924 - val_loss: 0.0363 - val_accuracy: 0.9950\n",
      "Epoch 8/12\n",
      "1645/1645 [==============================] - 48s 29ms/step - loss: 0.0261 - accuracy: 0.9938 - val_loss: 0.0492 - val_accuracy: 0.9927\n",
      "Epoch 9/12\n",
      "1645/1645 [==============================] - 50s 30ms/step - loss: 0.0276 - accuracy: 0.9938 - val_loss: 0.0475 - val_accuracy: 0.9950\n",
      "Epoch 10/12\n",
      "1645/1645 [==============================] - 50s 30ms/step - loss: 0.0265 - accuracy: 0.9945 - val_loss: 0.0522 - val_accuracy: 0.9936\n",
      "Epoch 11/12\n",
      "1645/1645 [==============================] - 50s 31ms/step - loss: 0.0253 - accuracy: 0.9945 - val_loss: 0.0452 - val_accuracy: 0.9954\n",
      "Epoch 12/12\n",
      "1645/1645 [==============================] - 50s 30ms/step - loss: 0.0282 - accuracy: 0.9945 - val_loss: 0.0558 - val_accuracy: 0.9941\n"
     ]
    }
   ],
   "source": [
    "hist = model.fit(train, epochs=12, validation_data=valid, shuffle=False)"
   ]
  },
  {
   "cell_type": "code",
   "execution_count": 7,
   "id": "26925a48",
   "metadata": {
    "execution": {
     "iopub.execute_input": "2022-03-23T00:01:17.904992Z",
     "iopub.status.busy": "2022-03-23T00:01:17.904209Z",
     "iopub.status.idle": "2022-03-23T00:01:19.332032Z",
     "shell.execute_reply": "2022-03-23T00:01:19.331493Z",
     "shell.execute_reply.started": "2022-03-22T22:46:22.516458Z"
    },
    "papermill": {
     "duration": 4.065194,
     "end_time": "2022-03-23T00:01:19.332162",
     "exception": false,
     "start_time": "2022-03-23T00:01:15.266968",
     "status": "completed"
    },
    "tags": []
   },
   "outputs": [
    {
     "name": "stderr",
     "output_type": "stream",
     "text": [
      "2022-03-23 00:01:18.236440: W tensorflow/python/util/util.cc:348] Sets are not currently considered sequences, but this may change in the future, so consider avoiding using them.\n"
     ]
    }
   ],
   "source": [
    "model.save(\"MF\")"
   ]
  }
 ],
 "metadata": {
  "kernelspec": {
   "display_name": "Python 3",
   "language": "python",
   "name": "python3"
  },
  "language_info": {
   "codemirror_mode": {
    "name": "ipython",
    "version": 3
   },
   "file_extension": ".py",
   "mimetype": "text/x-python",
   "name": "python",
   "nbconvert_exporter": "python",
   "pygments_lexer": "ipython3",
   "version": "3.7.12"
  },
  "papermill": {
   "default_parameters": {},
   "duration": 1094.466261,
   "end_time": "2022-03-23T00:01:25.516803",
   "environment_variables": {},
   "exception": null,
   "input_path": "__notebook__.ipynb",
   "output_path": "__notebook__.ipynb",
   "parameters": {},
   "start_time": "2022-03-22T23:43:11.050542",
   "version": "2.3.3"
  }
 },
 "nbformat": 4,
 "nbformat_minor": 5
}
